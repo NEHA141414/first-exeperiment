{
 "cells": [
  {
   "cell_type": "code",
   "execution_count": 1,
   "id": "08f86a8e-26dd-4c30-8270-ad21026583b0",
   "metadata": {},
   "outputs": [
    {
     "data": {
      "text/plain": [
       "3"
      ]
     },
     "execution_count": 1,
     "metadata": {},
     "output_type": "execute_result"
    }
   ],
   "source": [
    "1+2"
   ]
  },
  {
   "cell_type": "code",
   "execution_count": null,
   "id": "f59ad5dc-96b7-459c-a225-1d91abaf1689",
   "metadata": {},
   "outputs": [],
   "source": []
  },
  {
   "cell_type": "code",
   "execution_count": 19,
   "id": "cf5eb609-f2b7-4ee4-ac3b-424bd2d5777d",
   "metadata": {},
   "outputs": [],
   "source": [
    "Student_id=['s01','s02','s03','s04','s05']\n",
    "Gender=['m','f','m','f','f']\n",
    "Dept=['CS','ECE','ME','CS','ME']\n",
    "Sesional_perc=[45,60,73,65.3,71.9]\n",
    "Total_marks=[680,800,520,650,780]\n",
    "Backlog=['NB','B','NB','NB','NB']"
   ]
  },
  {
   "cell_type": "code",
   "execution_count": 2,
   "id": "43138990-db9e-4aaa-abac-68247d014e71",
   "metadata": {},
   "outputs": [
    {
     "data": {
      "text/plain": [
       "5"
      ]
     },
     "execution_count": 2,
     "metadata": {},
     "output_type": "execute_result"
    }
   ],
   "source": [
    "len(Student_id)"
   ]
  },
  {
   "cell_type": "markdown",
   "id": "1ff5072b-362e-4969-a97b-7a30c7e6da7d",
   "metadata": {},
   "source": [
    "if any student recieved 70% marks in there sessional , increas the total marks 2%"
   ]
  },
  {
   "cell_type": "code",
   "execution_count": 20,
   "id": "cac8ece8-27f4-47f4-b3ce-39de676c6341",
   "metadata": {},
   "outputs": [
    {
     "name": "stdout",
     "output_type": "stream",
     "text": [
      "marks did not change\n"
     ]
    }
   ],
   "source": [
    "for i in range(len(Student_id)):\n",
    "   if Sesional_perc[i]>70 :\n",
    "    Total_marks[i]=Total_marks[i]+Total_marks[i]*0.02\n",
    "else:\n",
    "    print(\"marks did not change\")"
   ]
  },
  {
   "cell_type": "markdown",
   "id": "cd3e70dc-46d2-4303-a0ee-532e1ffd56b9",
   "metadata": {},
   "source": [
    "S01 AND S02  HAVE GOT BACKLOG AND WE NEED TO UPDATE THEM"
   ]
  },
  {
   "cell_type": "code",
   "execution_count": 23,
   "id": "61479609-6e66-4e16-9973-32366f992404",
   "metadata": {},
   "outputs": [
    {
     "name": "stdout",
     "output_type": "stream",
     "text": [
      "0\n",
      "1\n",
      "2\n",
      "3\n",
      "4\n"
     ]
    }
   ],
   "source": [
    "updated_Student=['s01','s04']\n",
    "for i in range(len(Student_id)):\n",
    "    print(i)\n",
    "    if Student_id[i] in updated_Student:\n",
    "        Backlog[i]='B'"
   ]
  },
  {
   "cell_type": "code",
   "execution_count": 22,
   "id": "5f4ea2d3-733b-481e-a87e-7f5fc07d0ef8",
   "metadata": {},
   "outputs": [
    {
     "data": {
      "text/plain": [
       "['B', 'B', 'NB', 'B', 'NB']"
      ]
     },
     "execution_count": 22,
     "metadata": {},
     "output_type": "execute_result"
    }
   ],
   "source": [
    "Backlog"
   ]
  },
  {
   "cell_type": "code",
   "execution_count": 33,
   "id": "5d4485de-d90b-42c9-a369-50d928ddc9c3",
   "metadata": {},
   "outputs": [],
   "source": [
    "## if a student total marks is greater than 750 and they have no backlog and they have no bavklog ,they will reciev a high scholarship if a student have no backlog and has marks between 650 and 750 they will recieve achiever scholership"
   ]
  },
  {
   "cell_type": "code",
   "execution_count": 61,
   "id": "292d5689-189f-47e1-bf9d-49207fafe48f",
   "metadata": {},
   "outputs": [
    {
     "data": {
      "text/plain": [
       "[680, 800, 680, 650, 795.6]"
      ]
     },
     "execution_count": 61,
     "metadata": {},
     "output_type": "execute_result"
    }
   ],
   "source": [
    "Total_marks"
   ]
  },
  {
   "cell_type": "code",
   "execution_count": 34,
   "id": "f50891d1-72c6-4425-b69b-dc1e422ec4a4",
   "metadata": {},
   "outputs": [
    {
     "data": {
      "text/plain": [
       "['CS', 'ECE', 'ME', 'CS', 'ME']"
      ]
     },
     "execution_count": 34,
     "metadata": {},
     "output_type": "execute_result"
    }
   ],
   "source": [
    "Dept"
   ]
  },
  {
   "cell_type": "code",
   "execution_count": 26,
   "id": "71a50c8c-06f6-4d50-80dd-50f222ebd295",
   "metadata": {},
   "outputs": [
    {
     "data": {
      "text/plain": [
       "['B', 'B', 'NB', 'B', 'NB']"
      ]
     },
     "execution_count": 26,
     "metadata": {},
     "output_type": "execute_result"
    }
   ],
   "source": [
    "Backlog"
   ]
  },
  {
   "cell_type": "code",
   "execution_count": 35,
   "id": "da9a7baf-1b10-4be4-b0fb-03ae5f7a7a69",
   "metadata": {},
   "outputs": [],
   "source": [
    "Dept[4]='CS'"
   ]
  },
  {
   "cell_type": "code",
   "execution_count": 60,
   "id": "366c1a5a-ad3a-4ac7-b9f2-99f889b856d8",
   "metadata": {},
   "outputs": [],
   "source": [
    "Total_marks[2]=680"
   ]
  },
  {
   "cell_type": "code",
   "execution_count": 27,
   "id": "b07198fc-1947-4595-abb5-128e9620c26b",
   "metadata": {},
   "outputs": [],
   "source": [
    "Scholership=['no Scholership' for _ in range (len(Student_id))]"
   ]
  },
  {
   "cell_type": "code",
   "execution_count": 28,
   "id": "68b094a1-bdc0-4cea-ba9a-ece1954d989c",
   "metadata": {},
   "outputs": [
    {
     "data": {
      "text/plain": [
       "['no Scholership',\n",
       " 'no Scholership',\n",
       " 'no Scholership',\n",
       " 'no Scholership',\n",
       " 'no Scholership']"
      ]
     },
     "execution_count": 28,
     "metadata": {},
     "output_type": "execute_result"
    }
   ],
   "source": [
    "Scholership"
   ]
  },
  {
   "cell_type": "code",
   "execution_count": 31,
   "id": "3cfb087c-91fe-43e5-92b1-fbcbe42a2161",
   "metadata": {},
   "outputs": [],
   "source": [
    "Scholershi=[]\n",
    "for _ in range(len(Student_id)):\n",
    "    Scholership.append('no Scholership')"
   ]
  },
  {
   "cell_type": "code",
   "execution_count": 32,
   "id": "b4195b18-98d1-45ee-a5c6-b79dc3eb8477",
   "metadata": {},
   "outputs": [
    {
     "data": {
      "text/plain": [
       "['no Scholership',\n",
       " 'no Scholership',\n",
       " 'no Scholership',\n",
       " 'no Scholership',\n",
       " 'no Scholership',\n",
       " 'no Scholership',\n",
       " 'no Scholership',\n",
       " 'no Scholership',\n",
       " 'no Scholership',\n",
       " 'no Scholership']"
      ]
     },
     "execution_count": 32,
     "metadata": {},
     "output_type": "execute_result"
    }
   ],
   "source": [
    "Scholership"
   ]
  },
  {
   "cell_type": "code",
   "execution_count": null,
   "id": "971b5bcb-ef4d-4818-86a0-aa427dd14d08",
   "metadata": {},
   "outputs": [],
   "source": []
  },
  {
   "cell_type": "code",
   "execution_count": 65,
   "id": "616d85a5-3203-4a8b-bac2-8ccb9a00bca2",
   "metadata": {},
   "outputs": [
    {
     "name": "stdout",
     "output_type": "stream",
     "text": [
      "no Scholership were given\n",
      "no Scholership were given\n",
      "no Scholership were given\n",
      "high achiever Scholership awarded to s05\n"
     ]
    }
   ],
   "source": [
    "for i in range(len(Student_id)):\n",
    "    if Dept[i]=='CS' and Total_marks[i]>750 and Backlog[i] =='NB':\n",
    "        Scholership[i] ='high achiever Scholership'\n",
    "        print(f\"high achiever Scholership awarded to {Student_id[i]}\")\n",
    "        \n",
    "    elif Backlog[i]=='NB' and (650<Total_marks[i]<=720):\n",
    "         Scholership[i]='achiever Scholership'\n",
    "            \n",
    "    else :\n",
    "        print(\"no Scholership were given\")\n",
    "        "
   ]
  },
  {
   "cell_type": "code",
   "execution_count": 55,
   "id": "612371fd-e507-4c9e-a6a8-c33f4a5007f3",
   "metadata": {},
   "outputs": [],
   "source": [
    "a=10\n",
    "b=5\n",
    "c=a+b"
   ]
  },
  {
   "cell_type": "code",
   "execution_count": 59,
   "id": "2953876e-e743-4614-8216-c69470eea1a3",
   "metadata": {},
   "outputs": [
    {
     "name": "stdout",
     "output_type": "stream",
     "text": [
      "the sum of 10 and 5\n"
     ]
    }
   ],
   "source": [
    "print(f'the sum of {a} and {b}')"
   ]
  },
  {
   "cell_type": "code",
   "execution_count": 66,
   "id": "e073b145-b9ea-4afb-acb1-10e6357d0873",
   "metadata": {},
   "outputs": [
    {
     "data": {
      "text/plain": [
       "['no Scholership',\n",
       " 'no Scholership',\n",
       " 'achiever Scholership',\n",
       " 'no Scholership',\n",
       " 'high achiever Scholership',\n",
       " 'no Scholership',\n",
       " 'no Scholership',\n",
       " 'no Scholership',\n",
       " 'no Scholership',\n",
       " 'no Scholership']"
      ]
     },
     "execution_count": 66,
     "metadata": {},
     "output_type": "execute_result"
    }
   ],
   "source": [
    "Scholership"
   ]
  },
  {
   "cell_type": "code",
   "execution_count": 67,
   "id": "a795252e-86f2-4cad-8581-7a2fbfbf6da0",
   "metadata": {},
   "outputs": [],
   "source": [
    "Std_db={\n",
    "    'Student_ID':Student_id,\n",
    "     'Gender':Gender,\n",
    "     'Department': Dept,\n",
    "    'Sesional Perc':Sesional_perc,\n",
    "    'Total Marks': Total_marks,\n",
    "    'Backlog':Backlog,\n",
    "    'Scholership':Scholership\n",
    "}"
   ]
  },
  {
   "cell_type": "code",
   "execution_count": 69,
   "id": "1efb6c70-28c1-4763-ac06-2f4033656817",
   "metadata": {},
   "outputs": [
    {
     "data": {
      "text/plain": [
       "{'Student_ID': ['s01', 's02', 's03', 's04', 's05'],\n",
       " 'Gender': ['m', 'f', 'm', 'f', 'f'],\n",
       " 'Department': ['CS', 'ECE', 'ME', 'CS', 'CS'],\n",
       " 'Sesional Perc': [45, 60, 73, 65.3, 71.9],\n",
       " 'Total Marks': [680, 800, 680, 650, 795.6],\n",
       " 'Backlog': ['B', 'B', 'NB', 'B', 'NB'],\n",
       " 'Scholership': ['no Scholership',\n",
       "  'no Scholership',\n",
       "  'achiever Scholership',\n",
       "  'no Scholership',\n",
       "  'high achiever Scholership',\n",
       "  'no Scholership',\n",
       "  'no Scholership',\n",
       "  'no Scholership',\n",
       "  'no Scholership',\n",
       "  'no Scholership']}"
      ]
     },
     "execution_count": 69,
     "metadata": {},
     "output_type": "execute_result"
    }
   ],
   "source": [
    "Std_db"
   ]
  },
  {
   "cell_type": "code",
   "execution_count": 70,
   "id": "2d0b6215-7e3a-466d-acb0-b21f828ff5ba",
   "metadata": {},
   "outputs": [
    {
     "data": {
      "text/plain": [
       "dict_keys(['Student_ID', 'Gender', 'Department', 'Sesional Perc', 'Total Marks', 'Backlog', 'Scholership'])"
      ]
     },
     "execution_count": 70,
     "metadata": {},
     "output_type": "execute_result"
    }
   ],
   "source": [
    "Std_db.keys()"
   ]
  },
  {
   "cell_type": "code",
   "execution_count": 73,
   "id": "ba4fef4b-78c1-437f-831b-c186d486aa28",
   "metadata": {},
   "outputs": [
    {
     "data": {
      "text/plain": [
       "dict_values([['s01', 's02', 's03', 's04', 's05'], ['m', 'f', 'm', 'f', 'f'], ['CS', 'ECE', 'ME', 'CS', 'CS'], [45, 60, 73, 65.3, 71.9], [680, 800, 680, 650, 795.6], ['B', 'B', 'NB', 'B', 'NB'], ['no Scholership', 'no Scholership', 'achiever Scholership', 'no Scholership', 'high achiever Scholership', 'no Scholership', 'no Scholership', 'no Scholership', 'no Scholership', 'no Scholership']])"
      ]
     },
     "execution_count": 73,
     "metadata": {},
     "output_type": "execute_result"
    }
   ],
   "source": [
    "Std_db.values()"
   ]
  },
  {
   "cell_type": "code",
   "execution_count": 74,
   "id": "386ad875-6893-4b17-ac31-fd8b03ec924d",
   "metadata": {},
   "outputs": [
    {
     "data": {
      "text/plain": [
       "dict_items([('Student_ID', ['s01', 's02', 's03', 's04', 's05']), ('Gender', ['m', 'f', 'm', 'f', 'f']), ('Department', ['CS', 'ECE', 'ME', 'CS', 'CS']), ('Sesional Perc', [45, 60, 73, 65.3, 71.9]), ('Total Marks', [680, 800, 680, 650, 795.6]), ('Backlog', ['B', 'B', 'NB', 'B', 'NB']), ('Scholership', ['no Scholership', 'no Scholership', 'achiever Scholership', 'no Scholership', 'high achiever Scholership', 'no Scholership', 'no Scholership', 'no Scholership', 'no Scholership', 'no Scholership'])])"
      ]
     },
     "execution_count": 74,
     "metadata": {},
     "output_type": "execute_result"
    }
   ],
   "source": [
    "Std_db.items()"
   ]
  },
  {
   "cell_type": "code",
   "execution_count": null,
   "id": "d315bcca-b439-4560-9659-4a526855b089",
   "metadata": {},
   "outputs": [],
   "source": []
  }
 ],
 "metadata": {
  "kernelspec": {
   "display_name": "Python 3 (ipykernel)",
   "language": "python",
   "name": "python3"
  },
  "language_info": {
   "codemirror_mode": {
    "name": "ipython",
    "version": 3
   },
   "file_extension": ".py",
   "mimetype": "text/x-python",
   "name": "python",
   "nbconvert_exporter": "python",
   "pygments_lexer": "ipython3",
   "version": "3.10.8"
  }
 },
 "nbformat": 4,
 "nbformat_minor": 5
}
